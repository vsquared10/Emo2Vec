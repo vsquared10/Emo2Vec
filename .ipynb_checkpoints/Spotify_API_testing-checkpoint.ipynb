{
 "cells": [
  {
   "cell_type": "code",
   "execution_count": 2,
   "metadata": {
    "collapsed": true
   },
   "outputs": [],
   "source": [
    "reset -fs"
   ]
  },
  {
   "cell_type": "code",
   "execution_count": 10,
   "metadata": {
    "collapsed": false
   },
   "outputs": [],
   "source": [
    "import requests"
   ]
  },
  {
   "cell_type": "code",
   "execution_count": 2,
   "metadata": {
    "collapsed": true
   },
   "outputs": [],
   "source": [
    "client_id = 'b8b2038593d44cf6b826d84a09238016'\n",
    "client_key = '0d8de85a4bae4c519f809302af16f756'"
   ]
  },
  {
   "cell_type": "code",
   "execution_count": 3,
   "metadata": {
    "collapsed": false
   },
   "outputs": [],
   "source": [
    "url= 'https://api.spotify.com/v1/search'\n",
    "params = {'q' : 'angry',\n",
    "          'type' :'playlist',\n",
    "          'limit' : '5'}\n",
    "headers={\n",
    "    \"Accept\": \"text/plain\"\n",
    "  }"
   ]
  },
  {
   "cell_type": "code",
   "execution_count": 4,
   "metadata": {
    "collapsed": false
   },
   "outputs": [],
   "source": [
    "r = requests.get(url, params=params)"
   ]
  },
  {
   "cell_type": "code",
   "execution_count": 5,
   "metadata": {
    "collapsed": false
   },
   "outputs": [],
   "source": [
    "data = r.json()"
   ]
  },
  {
   "cell_type": "code",
   "execution_count": 6,
   "metadata": {
    "collapsed": false,
    "scrolled": true
   },
   "outputs": [
    {
     "data": {
      "text/plain": [
       "{'playlists': {'href': 'https://api.spotify.com/v1/search?query=angry&offset=0&limit=5&type=playlist',\n",
       "  'items': [{'collaborative': False,\n",
       "    'external_urls': {'spotify': 'http://open.spotify.com/user/derrickmcdonald904/playlist/1kAFPu9zrs94XMpypEyIku'},\n",
       "    'href': 'https://api.spotify.com/v1/users/derrickmcdonald904/playlists/1kAFPu9zrs94XMpypEyIku',\n",
       "    'id': '1kAFPu9zrs94XMpypEyIku',\n",
       "    'images': [{'height': 640,\n",
       "      'url': 'https://mosaic.scdn.co/640/14e01097c7707e305a37085d0b2c169fc412cb9154a81e5844382671738fbad792dee093ad0fc74351714b2617075accd828c2f3490014af7832579595e4987080b5b858acb511a76112086eafa686e4',\n",
       "      'width': 640},\n",
       "     {'height': 300,\n",
       "      'url': 'https://mosaic.scdn.co/300/14e01097c7707e305a37085d0b2c169fc412cb9154a81e5844382671738fbad792dee093ad0fc74351714b2617075accd828c2f3490014af7832579595e4987080b5b858acb511a76112086eafa686e4',\n",
       "      'width': 300},\n",
       "     {'height': 60,\n",
       "      'url': 'https://mosaic.scdn.co/60/14e01097c7707e305a37085d0b2c169fc412cb9154a81e5844382671738fbad792dee093ad0fc74351714b2617075accd828c2f3490014af7832579595e4987080b5b858acb511a76112086eafa686e4',\n",
       "      'width': 60}],\n",
       "    'name': 'angry',\n",
       "    'owner': {'external_urls': {'spotify': 'http://open.spotify.com/user/derrickmcdonald904'},\n",
       "     'href': 'https://api.spotify.com/v1/users/derrickmcdonald904',\n",
       "     'id': 'derrickmcdonald904',\n",
       "     'type': 'user',\n",
       "     'uri': 'spotify:user:derrickmcdonald904'},\n",
       "    'public': None,\n",
       "    'snapshot_id': 'vZoH7g5IPWL+g3ypbbo1bfL+ikhwJ5CN54NLFgTu0jrQdTBjKFmJ/qR8d0swCiFN',\n",
       "    'tracks': {'href': 'https://api.spotify.com/v1/users/derrickmcdonald904/playlists/1kAFPu9zrs94XMpypEyIku/tracks',\n",
       "     'total': 254},\n",
       "    'type': 'playlist',\n",
       "    'uri': 'spotify:user:derrickmcdonald904:playlist:1kAFPu9zrs94XMpypEyIku'},\n",
       "   {'collaborative': False,\n",
       "    'external_urls': {'spotify': 'http://open.spotify.com/user/kerwino/playlist/4mCGD3C9QXhrWv3uBIpbRF'},\n",
       "    'href': 'https://api.spotify.com/v1/users/kerwino/playlists/4mCGD3C9QXhrWv3uBIpbRF',\n",
       "    'id': '4mCGD3C9QXhrWv3uBIpbRF',\n",
       "    'images': [{'height': 640,\n",
       "      'url': 'https://mosaic.scdn.co/640/f8510e4d45b268bed6318175f3d6b5125022046ad6aebc8455b303340e188c20fd4f562a2ab980e06df4e10b73eb8ca0f6228a8d493b8a1d34b950fc364ebe9e328b552a92feeeb4f2bb47821e386536',\n",
       "      'width': 640},\n",
       "     {'height': 300,\n",
       "      'url': 'https://mosaic.scdn.co/300/f8510e4d45b268bed6318175f3d6b5125022046ad6aebc8455b303340e188c20fd4f562a2ab980e06df4e10b73eb8ca0f6228a8d493b8a1d34b950fc364ebe9e328b552a92feeeb4f2bb47821e386536',\n",
       "      'width': 300},\n",
       "     {'height': 60,\n",
       "      'url': 'https://mosaic.scdn.co/60/f8510e4d45b268bed6318175f3d6b5125022046ad6aebc8455b303340e188c20fd4f562a2ab980e06df4e10b73eb8ca0f6228a8d493b8a1d34b950fc364ebe9e328b552a92feeeb4f2bb47821e386536',\n",
       "      'width': 60}],\n",
       "    'name': 'angry rap',\n",
       "    'owner': {'external_urls': {'spotify': 'http://open.spotify.com/user/kerwino'},\n",
       "     'href': 'https://api.spotify.com/v1/users/kerwino',\n",
       "     'id': 'kerwino',\n",
       "     'type': 'user',\n",
       "     'uri': 'spotify:user:kerwino'},\n",
       "    'public': None,\n",
       "    'snapshot_id': 'GNMRio6PIRhT3sw2P7YJrGoJWLF9epkNfbnhHRtSm+TLsJ4F9pF2CnDZRHKdAA5v',\n",
       "    'tracks': {'href': 'https://api.spotify.com/v1/users/kerwino/playlists/4mCGD3C9QXhrWv3uBIpbRF/tracks',\n",
       "     'total': 162},\n",
       "    'type': 'playlist',\n",
       "    'uri': 'spotify:user:kerwino:playlist:4mCGD3C9QXhrWv3uBIpbRF'},\n",
       "   {'collaborative': False,\n",
       "    'external_urls': {'spotify': 'http://open.spotify.com/user/vheist16/playlist/0jFTAWnKeif1jeycmfzntA'},\n",
       "    'href': 'https://api.spotify.com/v1/users/vheist16/playlists/0jFTAWnKeif1jeycmfzntA',\n",
       "    'id': '0jFTAWnKeif1jeycmfzntA',\n",
       "    'images': [{'height': 640,\n",
       "      'url': 'https://mosaic.scdn.co/640/98be8968e1c29e6ef80831c5867733d2e687b50803f017a0243f8700181a566c8201a0ee992a9e91702ea459eef6df07fec7756a0a38b2452e9c9d4d9e067632c37b3b274fd9f5f21c228071e373678a',\n",
       "      'width': 640},\n",
       "     {'height': 300,\n",
       "      'url': 'https://mosaic.scdn.co/300/98be8968e1c29e6ef80831c5867733d2e687b50803f017a0243f8700181a566c8201a0ee992a9e91702ea459eef6df07fec7756a0a38b2452e9c9d4d9e067632c37b3b274fd9f5f21c228071e373678a',\n",
       "      'width': 300},\n",
       "     {'height': 60,\n",
       "      'url': 'https://mosaic.scdn.co/60/98be8968e1c29e6ef80831c5867733d2e687b50803f017a0243f8700181a566c8201a0ee992a9e91702ea459eef6df07fec7756a0a38b2452e9c9d4d9e067632c37b3b274fd9f5f21c228071e373678a',\n",
       "      'width': 60}],\n",
       "    'name': 'Angry Feminist',\n",
       "    'owner': {'external_urls': {'spotify': 'http://open.spotify.com/user/vheist16'},\n",
       "     'href': 'https://api.spotify.com/v1/users/vheist16',\n",
       "     'id': 'vheist16',\n",
       "     'type': 'user',\n",
       "     'uri': 'spotify:user:vheist16'},\n",
       "    'public': None,\n",
       "    'snapshot_id': 'oVQOCdtO+s0uiwOBhk9UmSOnoriiXfaohA90JqCN1lAjv2dM39pTRcHc7XnKTRwA',\n",
       "    'tracks': {'href': 'https://api.spotify.com/v1/users/vheist16/playlists/0jFTAWnKeif1jeycmfzntA/tracks',\n",
       "     'total': 129},\n",
       "    'type': 'playlist',\n",
       "    'uri': 'spotify:user:vheist16:playlist:0jFTAWnKeif1jeycmfzntA'},\n",
       "   {'collaborative': False,\n",
       "    'external_urls': {'spotify': 'http://open.spotify.com/user/1210455809/playlist/6v1dsdZknqXf2xukNyeJ2x'},\n",
       "    'href': 'https://api.spotify.com/v1/users/1210455809/playlists/6v1dsdZknqXf2xukNyeJ2x',\n",
       "    'id': '6v1dsdZknqXf2xukNyeJ2x',\n",
       "    'images': [{'height': 640,\n",
       "      'url': 'https://mosaic.scdn.co/640/170f6319fa11fb7302ac04bf9732765e76620ae222da875c060f901998e1f3518ab8fc08d814f926a701d127689c0280cccedad77dbb4359e913e3dd5c9c2342145fe53505a001fb6c767c8ca3b0378d',\n",
       "      'width': 640},\n",
       "     {'height': 300,\n",
       "      'url': 'https://mosaic.scdn.co/300/170f6319fa11fb7302ac04bf9732765e76620ae222da875c060f901998e1f3518ab8fc08d814f926a701d127689c0280cccedad77dbb4359e913e3dd5c9c2342145fe53505a001fb6c767c8ca3b0378d',\n",
       "      'width': 300},\n",
       "     {'height': 60,\n",
       "      'url': 'https://mosaic.scdn.co/60/170f6319fa11fb7302ac04bf9732765e76620ae222da875c060f901998e1f3518ab8fc08d814f926a701d127689c0280cccedad77dbb4359e913e3dd5c9c2342145fe53505a001fb6c767c8ca3b0378d',\n",
       "      'width': 60}],\n",
       "    'name': 'Angry Playlist',\n",
       "    'owner': {'external_urls': {'spotify': 'http://open.spotify.com/user/1210455809'},\n",
       "     'href': 'https://api.spotify.com/v1/users/1210455809',\n",
       "     'id': '1210455809',\n",
       "     'type': 'user',\n",
       "     'uri': 'spotify:user:1210455809'},\n",
       "    'public': None,\n",
       "    'snapshot_id': 'AxgnDPpBko2kLBjT5Cp4TgMeymEm91pOgdGOzIvEZqO+D0e8Yow35YDgwYM2aEPC',\n",
       "    'tracks': {'href': 'https://api.spotify.com/v1/users/1210455809/playlists/6v1dsdZknqXf2xukNyeJ2x/tracks',\n",
       "     'total': 322},\n",
       "    'type': 'playlist',\n",
       "    'uri': 'spotify:user:1210455809:playlist:6v1dsdZknqXf2xukNyeJ2x'},\n",
       "   {'collaborative': False,\n",
       "    'external_urls': {'spotify': 'http://open.spotify.com/user/lenalynn2222/playlist/6SO62h8wlSqf7YS5tIIabJ'},\n",
       "    'href': 'https://api.spotify.com/v1/users/lenalynn2222/playlists/6SO62h8wlSqf7YS5tIIabJ',\n",
       "    'id': '6SO62h8wlSqf7YS5tIIabJ',\n",
       "    'images': [{'height': 640,\n",
       "      'url': 'https://mosaic.scdn.co/640/53ca61ed0ce45b2caa96ff041f4b90f36d3bf5d2491b7ef349cd0ffeded0e5572e0e719f7eb7ba104970fe788948f0e0702b81e368ac8a444aef821c7cfba66b4b53da09ca7a62f0434a797e7310e794',\n",
       "      'width': 640},\n",
       "     {'height': 300,\n",
       "      'url': 'https://mosaic.scdn.co/300/53ca61ed0ce45b2caa96ff041f4b90f36d3bf5d2491b7ef349cd0ffeded0e5572e0e719f7eb7ba104970fe788948f0e0702b81e368ac8a444aef821c7cfba66b4b53da09ca7a62f0434a797e7310e794',\n",
       "      'width': 300},\n",
       "     {'height': 60,\n",
       "      'url': 'https://mosaic.scdn.co/60/53ca61ed0ce45b2caa96ff041f4b90f36d3bf5d2491b7ef349cd0ffeded0e5572e0e719f7eb7ba104970fe788948f0e0702b81e368ac8a444aef821c7cfba66b4b53da09ca7a62f0434a797e7310e794',\n",
       "      'width': 60}],\n",
       "    'name': 'Angry Break Up Playlist',\n",
       "    'owner': {'external_urls': {'spotify': 'http://open.spotify.com/user/lenalynn2222'},\n",
       "     'href': 'https://api.spotify.com/v1/users/lenalynn2222',\n",
       "     'id': 'lenalynn2222',\n",
       "     'type': 'user',\n",
       "     'uri': 'spotify:user:lenalynn2222'},\n",
       "    'public': None,\n",
       "    'snapshot_id': 'IH0jxQjN29pwm+ClRWjWwGFZka3p34rs3CJAzsLoRv5vD/noYgMph1VpAMEh4ITV',\n",
       "    'tracks': {'href': 'https://api.spotify.com/v1/users/lenalynn2222/playlists/6SO62h8wlSqf7YS5tIIabJ/tracks',\n",
       "     'total': 283},\n",
       "    'type': 'playlist',\n",
       "    'uri': 'spotify:user:lenalynn2222:playlist:6SO62h8wlSqf7YS5tIIabJ'}],\n",
       "  'limit': 5,\n",
       "  'next': 'https://api.spotify.com/v1/search?query=angry&offset=5&limit=5&type=playlist',\n",
       "  'offset': 0,\n",
       "  'previous': None,\n",
       "  'total': 419}}"
      ]
     },
     "execution_count": 6,
     "metadata": {},
     "output_type": "execute_result"
    }
   ],
   "source": [
    "data"
   ]
  },
  {
   "cell_type": "code",
   "execution_count": 7,
   "metadata": {
    "collapsed": false
   },
   "outputs": [
    {
     "data": {
      "text/plain": [
       "dict_keys(['playlists'])"
      ]
     },
     "execution_count": 7,
     "metadata": {},
     "output_type": "execute_result"
    }
   ],
   "source": [
    "data.keys()"
   ]
  },
  {
   "cell_type": "code",
   "execution_count": 50,
   "metadata": {
    "collapsed": false,
    "scrolled": true
   },
   "outputs": [
    {
     "data": {
      "text/plain": [
       "dict_keys(['href', 'items', 'total', 'offset', 'next', 'previous', 'limit'])"
      ]
     },
     "execution_count": 50,
     "metadata": {},
     "output_type": "execute_result"
    }
   ],
   "source": [
    "data['playlists'].keys()"
   ]
  },
  {
   "cell_type": "code",
   "execution_count": 51,
   "metadata": {
    "collapsed": false,
    "scrolled": true
   },
   "outputs": [
    {
     "data": {
      "text/plain": [
       "[{'collaborative': False,\n",
       "  'external_urls': {'spotify': 'http://open.spotify.com/user/spotify_uk_/playlist/3fFwkB1IzcZlvYZEuiDzUU'},\n",
       "  'href': 'https://api.spotify.com/v1/users/spotify_uk_/playlists/3fFwkB1IzcZlvYZEuiDzUU',\n",
       "  'id': '3fFwkB1IzcZlvYZEuiDzUU',\n",
       "  'images': [{'height': None,\n",
       "    'url': 'https://u.scdn.co/images/pl/default/1df2edc34b89e9177069492019a1fec77cc8d0d0',\n",
       "    'width': None}],\n",
       "  'name': '#ThrowbackThursday',\n",
       "  'owner': {'external_urls': {'spotify': 'http://open.spotify.com/user/spotify_uk_'},\n",
       "   'href': 'https://api.spotify.com/v1/users/spotify_uk_',\n",
       "   'id': 'spotify_uk_',\n",
       "   'type': 'user',\n",
       "   'uri': 'spotify:user:spotify_uk_'},\n",
       "  'public': None,\n",
       "  'snapshot_id': 'fjKwMyGe75IT61lISLlUCq6T6jIOb8VHVdtmwhbv5b1tELcRNVsWjfbGATHKJrTN',\n",
       "  'tracks': {'href': 'https://api.spotify.com/v1/users/spotify_uk_/playlists/3fFwkB1IzcZlvYZEuiDzUU/tracks',\n",
       "   'total': 50},\n",
       "  'type': 'playlist',\n",
       "  'uri': 'spotify:user:spotify_uk_:playlist:3fFwkB1IzcZlvYZEuiDzUU'},\n",
       " {'collaborative': False,\n",
       "  'external_urls': {'spotify': 'http://open.spotify.com/user/kylie.corbett/playlist/75eNdfha82yOo9UnK30Khm'},\n",
       "  'href': 'https://api.spotify.com/v1/users/kylie.corbett/playlists/75eNdfha82yOo9UnK30Khm',\n",
       "  'id': '75eNdfha82yOo9UnK30Khm',\n",
       "  'images': [{'height': 640,\n",
       "    'url': 'https://mosaic.scdn.co/640/31b88a043c5ddcc8ed9b5317f196b5db3a72f593983ad9a2eca84fa19af19c903b69ca9745a73e5e9c63c3ef667ec5834b554838e6621c72a3c87fa8b1bd8a1eed252877094236bb2131124d01b91815',\n",
       "    'width': 640},\n",
       "   {'height': 300,\n",
       "    'url': 'https://mosaic.scdn.co/300/31b88a043c5ddcc8ed9b5317f196b5db3a72f593983ad9a2eca84fa19af19c903b69ca9745a73e5e9c63c3ef667ec5834b554838e6621c72a3c87fa8b1bd8a1eed252877094236bb2131124d01b91815',\n",
       "    'width': 300},\n",
       "   {'height': 60,\n",
       "    'url': 'https://mosaic.scdn.co/60/31b88a043c5ddcc8ed9b5317f196b5db3a72f593983ad9a2eca84fa19af19c903b69ca9745a73e5e9c63c3ef667ec5834b554838e6621c72a3c87fa8b1bd8a1eed252877094236bb2131124d01b91815',\n",
       "    'width': 60}],\n",
       "  'name': 'TexT',\n",
       "  'owner': {'external_urls': {'spotify': 'http://open.spotify.com/user/kylie.corbett'},\n",
       "   'href': 'https://api.spotify.com/v1/users/kylie.corbett',\n",
       "   'id': 'kylie.corbett',\n",
       "   'type': 'user',\n",
       "   'uri': 'spotify:user:kylie.corbett'},\n",
       "  'public': None,\n",
       "  'snapshot_id': 'E/wPoRUNzeJ3eS8Afu1Tff4d9FVTQsdSk60fUUOBh35gyN6mlcBohkU0C0tiisv8',\n",
       "  'tracks': {'href': 'https://api.spotify.com/v1/users/kylie.corbett/playlists/75eNdfha82yOo9UnK30Khm/tracks',\n",
       "   'total': 276},\n",
       "  'type': 'playlist',\n",
       "  'uri': 'spotify:user:kylie.corbett:playlist:75eNdfha82yOo9UnK30Khm'},\n",
       " {'collaborative': False,\n",
       "  'external_urls': {'spotify': 'http://open.spotify.com/user/warner.music.central.europe/playlist/439GRGyrRa8lcML6cuLtj0'},\n",
       "  'href': 'https://api.spotify.com/v1/users/warner.music.central.europe/playlists/439GRGyrRa8lcML6cuLtj0',\n",
       "  'id': '439GRGyrRa8lcML6cuLtj0',\n",
       "  'images': [{'height': None,\n",
       "    'url': 'https://u.scdn.co/images/pl/default/f18cb83d19999bb5e1ad6b396b4f19f42aaa6162',\n",
       "    'width': None}],\n",
       "  'name': 'HITS ZUM MITSINGEN',\n",
       "  'owner': {'external_urls': {'spotify': 'http://open.spotify.com/user/warner.music.central.europe'},\n",
       "   'href': 'https://api.spotify.com/v1/users/warner.music.central.europe',\n",
       "   'id': 'warner.music.central.europe',\n",
       "   'type': 'user',\n",
       "   'uri': 'spotify:user:warner.music.central.europe'},\n",
       "  'public': None,\n",
       "  'snapshot_id': 'lswP9aLOlrlscfdtrXwnXr5WPEdMMp0JGIBiiQwJlK18Q9gJMsZ1LxL6Hu8DlP55',\n",
       "  'tracks': {'href': 'https://api.spotify.com/v1/users/warner.music.central.europe/playlists/439GRGyrRa8lcML6cuLtj0/tracks',\n",
       "   'total': 100},\n",
       "  'type': 'playlist',\n",
       "  'uri': 'spotify:user:warner.music.central.europe:playlist:439GRGyrRa8lcML6cuLtj0'},\n",
       " {'collaborative': False,\n",
       "  'external_urls': {'spotify': 'http://open.spotify.com/user/spice_racks/playlist/10gSabVK1ee25jEOdM6W7z'},\n",
       "  'href': 'https://api.spotify.com/v1/users/spice_racks/playlists/10gSabVK1ee25jEOdM6W7z',\n",
       "  'id': '10gSabVK1ee25jEOdM6W7z',\n",
       "  'images': [{'height': 640,\n",
       "    'url': 'https://mosaic.scdn.co/640/095205c6e58e023fb4877529b75986014e8d66af0cd0508f78c5e5f6e2b01b3009753083c797727055455746f8544372d313183cdb8eca5fff3c8a12b1ad2e55063c2e32b074ca0c4294c60e44030680',\n",
       "    'width': 640},\n",
       "   {'height': 300,\n",
       "    'url': 'https://mosaic.scdn.co/300/095205c6e58e023fb4877529b75986014e8d66af0cd0508f78c5e5f6e2b01b3009753083c797727055455746f8544372d313183cdb8eca5fff3c8a12b1ad2e55063c2e32b074ca0c4294c60e44030680',\n",
       "    'width': 300},\n",
       "   {'height': 60,\n",
       "    'url': 'https://mosaic.scdn.co/60/095205c6e58e023fb4877529b75986014e8d66af0cd0508f78c5e5f6e2b01b3009753083c797727055455746f8544372d313183cdb8eca5fff3c8a12b1ad2e55063c2e32b074ca0c4294c60e44030680',\n",
       "    'width': 60}],\n",
       "  'name': 'Flavour Text',\n",
       "  'owner': {'external_urls': {'spotify': 'http://open.spotify.com/user/spice_racks'},\n",
       "   'href': 'https://api.spotify.com/v1/users/spice_racks',\n",
       "   'id': 'spice_racks',\n",
       "   'type': 'user',\n",
       "   'uri': 'spotify:user:spice_racks'},\n",
       "  'public': None,\n",
       "  'snapshot_id': 'vioR6WfrhWRnsVoPfAM3pU/0kymSxYldOpmOK4U5N/Wy5z+u5FHG3Vli+bQOkhmW',\n",
       "  'tracks': {'href': 'https://api.spotify.com/v1/users/spice_racks/playlists/10gSabVK1ee25jEOdM6W7z/tracks',\n",
       "   'total': 142},\n",
       "  'type': 'playlist',\n",
       "  'uri': 'spotify:user:spice_racks:playlist:10gSabVK1ee25jEOdM6W7z'},\n",
       " {'collaborative': False,\n",
       "  'external_urls': {'spotify': 'http://open.spotify.com/user/k_hebden/playlist/3e7xot5Y1XYY5AT5OVqRZO'},\n",
       "  'href': 'https://api.spotify.com/v1/users/k_hebden/playlists/3e7xot5Y1XYY5AT5OVqRZO',\n",
       "  'id': '3e7xot5Y1XYY5AT5OVqRZO',\n",
       "  'images': [{'height': None,\n",
       "    'url': 'https://u.scdn.co/images/pl/default/71648872f78f85e220b6e73b0018528364adb517',\n",
       "    'width': None}],\n",
       "  'name': 'Text Records',\n",
       "  'owner': {'external_urls': {'spotify': 'http://open.spotify.com/user/k_hebden'},\n",
       "   'href': 'https://api.spotify.com/v1/users/k_hebden',\n",
       "   'id': 'k_hebden',\n",
       "   'type': 'user',\n",
       "   'uri': 'spotify:user:k_hebden'},\n",
       "  'public': None,\n",
       "  'snapshot_id': 'IjEPQ9Zex6rUYaTWS+PVkhufzfeXUvOCHk1rxNFleLQPI2YPxStEaEe7DHwpg38V',\n",
       "  'tracks': {'href': 'https://api.spotify.com/v1/users/k_hebden/playlists/3e7xot5Y1XYY5AT5OVqRZO/tracks',\n",
       "   'total': 34},\n",
       "  'type': 'playlist',\n",
       "  'uri': 'spotify:user:k_hebden:playlist:3e7xot5Y1XYY5AT5OVqRZO'}]"
      ]
     },
     "execution_count": 51,
     "metadata": {},
     "output_type": "execute_result"
    }
   ],
   "source": [
    "data['playlists']['items']"
   ]
  },
  {
   "cell_type": "code",
   "execution_count": 13,
   "metadata": {
    "collapsed": false,
    "scrolled": true
   },
   "outputs": [
    {
     "data": {
      "text/plain": [
       "{'collaborative': False,\n",
       " 'external_urls': {'spotify': 'http://open.spotify.com/user/spotify_uk_/playlist/3fFwkB1IzcZlvYZEuiDzUU'},\n",
       " 'href': 'https://api.spotify.com/v1/users/spotify_uk_/playlists/3fFwkB1IzcZlvYZEuiDzUU',\n",
       " 'id': '3fFwkB1IzcZlvYZEuiDzUU',\n",
       " 'images': [{'height': None,\n",
       "   'url': 'https://u.scdn.co/images/pl/default/1df2edc34b89e9177069492019a1fec77cc8d0d0',\n",
       "   'width': None}],\n",
       " 'name': '#ThrowbackThursday',\n",
       " 'owner': {'external_urls': {'spotify': 'http://open.spotify.com/user/spotify_uk_'},\n",
       "  'href': 'https://api.spotify.com/v1/users/spotify_uk_',\n",
       "  'id': 'spotify_uk_',\n",
       "  'type': 'user',\n",
       "  'uri': 'spotify:user:spotify_uk_'},\n",
       " 'public': None,\n",
       " 'snapshot_id': 'UkWMxC9Eo9tBFzY7LmS5KAfyXMQPbS1+ZzFw0ItnFqpImDwJHumRUUTA3ZoAwMDc',\n",
       " 'tracks': {'href': 'https://api.spotify.com/v1/users/spotify_uk_/playlists/3fFwkB1IzcZlvYZEuiDzUU/tracks',\n",
       "  'total': 50},\n",
       " 'type': 'playlist',\n",
       " 'uri': 'spotify:user:spotify_uk_:playlist:3fFwkB1IzcZlvYZEuiDzUU'}"
      ]
     },
     "execution_count": 13,
     "metadata": {},
     "output_type": "execute_result"
    }
   ],
   "source": [
    "data['playlists']['items'][0]"
   ]
  },
  {
   "cell_type": "code",
   "execution_count": 7,
   "metadata": {
    "collapsed": false
   },
   "outputs": [
    {
     "data": {
      "text/plain": [
       "'https://api.spotify.com/v1/users/derrickmcdonald904/playlists/1kAFPu9zrs94XMpypEyIku'"
      ]
     },
     "execution_count": 7,
     "metadata": {},
     "output_type": "execute_result"
    }
   ],
   "source": [
    "play = data['playlists']['items'][0]['href']\n",
    "play"
   ]
  },
  {
   "cell_type": "markdown",
   "metadata": {},
   "source": [
    "## direct playlist URL result"
   ]
  },
  {
   "cell_type": "code",
   "execution_count": 16,
   "metadata": {
    "collapsed": false
   },
   "outputs": [
    {
     "data": {
      "text/plain": [
       "'http://open.spotify.com/user/spotify_uk_/playlist/3fFwkB1IzcZlvYZEuiDzUU'"
      ]
     },
     "execution_count": 16,
     "metadata": {},
     "output_type": "execute_result"
    }
   ],
   "source": [
    "result_dict['external_urls']['spotify']"
   ]
  },
  {
   "cell_type": "code",
   "execution_count": null,
   "metadata": {
    "collapsed": true
   },
   "outputs": [],
   "source": []
  }
 ],
 "metadata": {
  "kernelspec": {
   "display_name": "Python 3",
   "language": "python",
   "name": "python3"
  },
  "language_info": {
   "codemirror_mode": {
    "name": "ipython",
    "version": 3
   },
   "file_extension": ".py",
   "mimetype": "text/x-python",
   "name": "python",
   "nbconvert_exporter": "python",
   "pygments_lexer": "ipython3",
   "version": "3.5.2"
  }
 },
 "nbformat": 4,
 "nbformat_minor": 1
}
