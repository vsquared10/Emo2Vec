{
 "cells": [
  {
   "cell_type": "code",
   "execution_count": 2,
   "metadata": {
    "collapsed": true
   },
   "outputs": [],
   "source": [
    "reset -fs"
   ]
  },
  {
   "cell_type": "code",
   "execution_count": 1,
   "metadata": {
    "collapsed": false
   },
   "outputs": [
    {
     "name": "stderr",
     "output_type": "stream",
     "text": [
      "/Users/victorvulovic/anaconda/lib/python3.5/site-packages/gensim/utils.py:1015: UserWarning: Pattern library is not installed, lemmatization won't be available.\n",
      "  warnings.warn(\"Pattern library is not installed, lemmatization won't be available.\")\n"
     ]
    },
    {
     "name": "stdout",
     "output_type": "stream",
     "text": [
      "loading & cleaning the data...\n",
      "training the word2vec model from google's corpus\n",
      "splitting into train/test groups...\n",
      "creating a model with the best stuff we've got...\n"
     ]
    }
   ],
   "source": [
    "import string\n",
    "import random\n",
    "from nltk.corpus import stopwords\n",
    "from PLRetriever import *\n",
    "import requests\n",
    "from EmoClassifier import model, OVR, emotions\n",
    "from PLRetriever import *\n",
    "\n",
    "cachedStopWords = stopwords.words(\"english\")"
   ]
  },
  {
   "cell_type": "markdown",
   "metadata": {},
   "source": [
    "# Finished Program"
   ]
  },
  {
   "cell_type": "code",
   "execution_count": 24,
   "metadata": {
    "collapsed": true
   },
   "outputs": [],
   "source": [
    "def playlist_recommender(list_of_strings):\n",
    "    mood = \" \".join(\"\".join(char for char in sent if char not in string.punctuation) for sent in list_of_strings).lower().split(' ')\n",
    "    prediction_words = [word for word in mood if word not in cachedStopWords]\n",
    "    similar_word_vectors, degree_of_similarity = model.most_similar(positive=prediction_words, topn=1)[0]\n",
    "    prediction = model[similar_word_vectors].reshape(1, -1)\n",
    "    call = list(emotions.columns)[OVR.predict(prediction)]\n",
    "    data = callAPI(call)\n",
    "    items = data['playlists']['items']\n",
    "    playlist = random.choice(items)['external_urls']['spotify']\n",
    "    return playlist"
   ]
  },
  {
   "cell_type": "code",
   "execution_count": 3,
   "metadata": {
    "collapsed": true
   },
   "outputs": [],
   "source": [
    "user_input = [\"Architecture is frozen music.\",\n",
    "              'sculpture is imprisoned music.',\n",
    "              'painting is music, struggling to be released.',\n",
    "              'but music itself is free and forever will be; transcending all dimensions, and all realities.',\n",
    "              'Music is EVERYTHING']"
   ]
  },
  {
   "cell_type": "code",
   "execution_count": 25,
   "metadata": {
    "collapsed": false,
    "scrolled": true
   },
   "outputs": [
    {
     "data": {
      "text/plain": [
       "'http://open.spotify.com/user/1281252255/playlist/33gMBDjRkr5DvuTNxjpDCU'"
      ]
     },
     "execution_count": 25,
     "metadata": {},
     "output_type": "execute_result"
    }
   ],
   "source": [
    "playlist_recommender(user_input)"
   ]
  },
  {
   "cell_type": "markdown",
   "metadata": {},
   "source": [
    "# Original Testing Code"
   ]
  },
  {
   "cell_type": "code",
   "execution_count": 2,
   "metadata": {
    "collapsed": true
   },
   "outputs": [],
   "source": [
    "client_id = 'b8b2038593d44cf6b826d84a09238016'\n",
    "client_key = '0d8de85a4bae4c519f809302af16f756'"
   ]
  },
  {
   "cell_type": "code",
   "execution_count": 6,
   "metadata": {
    "collapsed": false
   },
   "outputs": [],
   "source": [
    "url= 'https://api.spotify.com/v1/search'\n",
    "params = {'q' : 'angry',\n",
    "          'type' :'playlist',\n",
    "          'limit' : '5'}\n",
    "headers={\n",
    "    \"Accept\": \"text/plain\"\n",
    "  }"
   ]
  },
  {
   "cell_type": "code",
   "execution_count": 7,
   "metadata": {
    "collapsed": false
   },
   "outputs": [],
   "source": [
    "r = requests.get(url, params=params)"
   ]
  },
  {
   "cell_type": "code",
   "execution_count": 8,
   "metadata": {
    "collapsed": false
   },
   "outputs": [],
   "source": [
    "data = r.json()"
   ]
  },
  {
   "cell_type": "code",
   "execution_count": 9,
   "metadata": {
    "collapsed": false
   },
   "outputs": [
    {
     "data": {
      "text/plain": [
       "{'playlists': {'href': 'https://api.spotify.com/v1/search?query=angry&offset=0&limit=5&type=playlist',\n",
       "  'items': [{'collaborative': False,\n",
       "    'external_urls': {'spotify': 'http://open.spotify.com/user/derrickmcdonald904/playlist/1kAFPu9zrs94XMpypEyIku'},\n",
       "    'href': 'https://api.spotify.com/v1/users/derrickmcdonald904/playlists/1kAFPu9zrs94XMpypEyIku',\n",
       "    'id': '1kAFPu9zrs94XMpypEyIku',\n",
       "    'images': [{'height': 640,\n",
       "      'url': 'https://mosaic.scdn.co/640/14e01097c7707e305a37085d0b2c169fc412cb9154a81e5844382671738fbad792dee093ad0fc74351714b2617075accd828c2f3490014af7832579595e4987080b5b858acb511a76112086eafa686e4',\n",
       "      'width': 640},\n",
       "     {'height': 300,\n",
       "      'url': 'https://mosaic.scdn.co/300/14e01097c7707e305a37085d0b2c169fc412cb9154a81e5844382671738fbad792dee093ad0fc74351714b2617075accd828c2f3490014af7832579595e4987080b5b858acb511a76112086eafa686e4',\n",
       "      'width': 300},\n",
       "     {'height': 60,\n",
       "      'url': 'https://mosaic.scdn.co/60/14e01097c7707e305a37085d0b2c169fc412cb9154a81e5844382671738fbad792dee093ad0fc74351714b2617075accd828c2f3490014af7832579595e4987080b5b858acb511a76112086eafa686e4',\n",
       "      'width': 60}],\n",
       "    'name': 'angry',\n",
       "    'owner': {'external_urls': {'spotify': 'http://open.spotify.com/user/derrickmcdonald904'},\n",
       "     'href': 'https://api.spotify.com/v1/users/derrickmcdonald904',\n",
       "     'id': 'derrickmcdonald904',\n",
       "     'type': 'user',\n",
       "     'uri': 'spotify:user:derrickmcdonald904'},\n",
       "    'public': None,\n",
       "    'snapshot_id': 'vZoH7g5IPWL+g3ypbbo1bfL+ikhwJ5CN54NLFgTu0jrQdTBjKFmJ/qR8d0swCiFN',\n",
       "    'tracks': {'href': 'https://api.spotify.com/v1/users/derrickmcdonald904/playlists/1kAFPu9zrs94XMpypEyIku/tracks',\n",
       "     'total': 254},\n",
       "    'type': 'playlist',\n",
       "    'uri': 'spotify:user:derrickmcdonald904:playlist:1kAFPu9zrs94XMpypEyIku'},\n",
       "   {'collaborative': False,\n",
       "    'external_urls': {'spotify': 'http://open.spotify.com/user/kerwino/playlist/4mCGD3C9QXhrWv3uBIpbRF'},\n",
       "    'href': 'https://api.spotify.com/v1/users/kerwino/playlists/4mCGD3C9QXhrWv3uBIpbRF',\n",
       "    'id': '4mCGD3C9QXhrWv3uBIpbRF',\n",
       "    'images': [{'height': 640,\n",
       "      'url': 'https://mosaic.scdn.co/640/f8510e4d45b268bed6318175f3d6b5125022046ad6aebc8455b303340e188c20fd4f562a2ab980e06df4e10b73eb8ca0f6228a8d493b8a1d34b950fc364ebe9e328b552a92feeeb4f2bb47821e386536',\n",
       "      'width': 640},\n",
       "     {'height': 300,\n",
       "      'url': 'https://mosaic.scdn.co/300/f8510e4d45b268bed6318175f3d6b5125022046ad6aebc8455b303340e188c20fd4f562a2ab980e06df4e10b73eb8ca0f6228a8d493b8a1d34b950fc364ebe9e328b552a92feeeb4f2bb47821e386536',\n",
       "      'width': 300},\n",
       "     {'height': 60,\n",
       "      'url': 'https://mosaic.scdn.co/60/f8510e4d45b268bed6318175f3d6b5125022046ad6aebc8455b303340e188c20fd4f562a2ab980e06df4e10b73eb8ca0f6228a8d493b8a1d34b950fc364ebe9e328b552a92feeeb4f2bb47821e386536',\n",
       "      'width': 60}],\n",
       "    'name': 'angry rap',\n",
       "    'owner': {'external_urls': {'spotify': 'http://open.spotify.com/user/kerwino'},\n",
       "     'href': 'https://api.spotify.com/v1/users/kerwino',\n",
       "     'id': 'kerwino',\n",
       "     'type': 'user',\n",
       "     'uri': 'spotify:user:kerwino'},\n",
       "    'public': None,\n",
       "    'snapshot_id': 'GNMRio6PIRhT3sw2P7YJrGoJWLF9epkNfbnhHRtSm+TLsJ4F9pF2CnDZRHKdAA5v',\n",
       "    'tracks': {'href': 'https://api.spotify.com/v1/users/kerwino/playlists/4mCGD3C9QXhrWv3uBIpbRF/tracks',\n",
       "     'total': 162},\n",
       "    'type': 'playlist',\n",
       "    'uri': 'spotify:user:kerwino:playlist:4mCGD3C9QXhrWv3uBIpbRF'},\n",
       "   {'collaborative': False,\n",
       "    'external_urls': {'spotify': 'http://open.spotify.com/user/vheist16/playlist/0jFTAWnKeif1jeycmfzntA'},\n",
       "    'href': 'https://api.spotify.com/v1/users/vheist16/playlists/0jFTAWnKeif1jeycmfzntA',\n",
       "    'id': '0jFTAWnKeif1jeycmfzntA',\n",
       "    'images': [{'height': 640,\n",
       "      'url': 'https://mosaic.scdn.co/640/98be8968e1c29e6ef80831c5867733d2e687b50803f017a0243f8700181a566c8201a0ee992a9e91702ea459eef6df07fec7756a0a38b2452e9c9d4d9e067632c37b3b274fd9f5f21c228071e373678a',\n",
       "      'width': 640},\n",
       "     {'height': 300,\n",
       "      'url': 'https://mosaic.scdn.co/300/98be8968e1c29e6ef80831c5867733d2e687b50803f017a0243f8700181a566c8201a0ee992a9e91702ea459eef6df07fec7756a0a38b2452e9c9d4d9e067632c37b3b274fd9f5f21c228071e373678a',\n",
       "      'width': 300},\n",
       "     {'height': 60,\n",
       "      'url': 'https://mosaic.scdn.co/60/98be8968e1c29e6ef80831c5867733d2e687b50803f017a0243f8700181a566c8201a0ee992a9e91702ea459eef6df07fec7756a0a38b2452e9c9d4d9e067632c37b3b274fd9f5f21c228071e373678a',\n",
       "      'width': 60}],\n",
       "    'name': 'Angry Feminist',\n",
       "    'owner': {'external_urls': {'spotify': 'http://open.spotify.com/user/vheist16'},\n",
       "     'href': 'https://api.spotify.com/v1/users/vheist16',\n",
       "     'id': 'vheist16',\n",
       "     'type': 'user',\n",
       "     'uri': 'spotify:user:vheist16'},\n",
       "    'public': None,\n",
       "    'snapshot_id': 'oVQOCdtO+s0uiwOBhk9UmSOnoriiXfaohA90JqCN1lAjv2dM39pTRcHc7XnKTRwA',\n",
       "    'tracks': {'href': 'https://api.spotify.com/v1/users/vheist16/playlists/0jFTAWnKeif1jeycmfzntA/tracks',\n",
       "     'total': 129},\n",
       "    'type': 'playlist',\n",
       "    'uri': 'spotify:user:vheist16:playlist:0jFTAWnKeif1jeycmfzntA'},\n",
       "   {'collaborative': False,\n",
       "    'external_urls': {'spotify': 'http://open.spotify.com/user/1210455809/playlist/6v1dsdZknqXf2xukNyeJ2x'},\n",
       "    'href': 'https://api.spotify.com/v1/users/1210455809/playlists/6v1dsdZknqXf2xukNyeJ2x',\n",
       "    'id': '6v1dsdZknqXf2xukNyeJ2x',\n",
       "    'images': [{'height': 640,\n",
       "      'url': 'https://mosaic.scdn.co/640/170f6319fa11fb7302ac04bf9732765e76620ae222da875c060f901998e1f3518ab8fc08d814f926a701d127689c0280cccedad77dbb4359e913e3dd5c9c2342145fe53505a001fb6c767c8ca3b0378d',\n",
       "      'width': 640},\n",
       "     {'height': 300,\n",
       "      'url': 'https://mosaic.scdn.co/300/170f6319fa11fb7302ac04bf9732765e76620ae222da875c060f901998e1f3518ab8fc08d814f926a701d127689c0280cccedad77dbb4359e913e3dd5c9c2342145fe53505a001fb6c767c8ca3b0378d',\n",
       "      'width': 300},\n",
       "     {'height': 60,\n",
       "      'url': 'https://mosaic.scdn.co/60/170f6319fa11fb7302ac04bf9732765e76620ae222da875c060f901998e1f3518ab8fc08d814f926a701d127689c0280cccedad77dbb4359e913e3dd5c9c2342145fe53505a001fb6c767c8ca3b0378d',\n",
       "      'width': 60}],\n",
       "    'name': 'Angry Playlist',\n",
       "    'owner': {'external_urls': {'spotify': 'http://open.spotify.com/user/1210455809'},\n",
       "     'href': 'https://api.spotify.com/v1/users/1210455809',\n",
       "     'id': '1210455809',\n",
       "     'type': 'user',\n",
       "     'uri': 'spotify:user:1210455809'},\n",
       "    'public': None,\n",
       "    'snapshot_id': 'AxgnDPpBko2kLBjT5Cp4TgMeymEm91pOgdGOzIvEZqO+D0e8Yow35YDgwYM2aEPC',\n",
       "    'tracks': {'href': 'https://api.spotify.com/v1/users/1210455809/playlists/6v1dsdZknqXf2xukNyeJ2x/tracks',\n",
       "     'total': 322},\n",
       "    'type': 'playlist',\n",
       "    'uri': 'spotify:user:1210455809:playlist:6v1dsdZknqXf2xukNyeJ2x'},\n",
       "   {'collaborative': False,\n",
       "    'external_urls': {'spotify': 'http://open.spotify.com/user/lenalynn2222/playlist/6SO62h8wlSqf7YS5tIIabJ'},\n",
       "    'href': 'https://api.spotify.com/v1/users/lenalynn2222/playlists/6SO62h8wlSqf7YS5tIIabJ',\n",
       "    'id': '6SO62h8wlSqf7YS5tIIabJ',\n",
       "    'images': [{'height': 640,\n",
       "      'url': 'https://mosaic.scdn.co/640/53ca61ed0ce45b2caa96ff041f4b90f36d3bf5d2491b7ef349cd0ffeded0e5572e0e719f7eb7ba104970fe788948f0e0702b81e368ac8a444aef821c7cfba66b4b53da09ca7a62f0434a797e7310e794',\n",
       "      'width': 640},\n",
       "     {'height': 300,\n",
       "      'url': 'https://mosaic.scdn.co/300/53ca61ed0ce45b2caa96ff041f4b90f36d3bf5d2491b7ef349cd0ffeded0e5572e0e719f7eb7ba104970fe788948f0e0702b81e368ac8a444aef821c7cfba66b4b53da09ca7a62f0434a797e7310e794',\n",
       "      'width': 300},\n",
       "     {'height': 60,\n",
       "      'url': 'https://mosaic.scdn.co/60/53ca61ed0ce45b2caa96ff041f4b90f36d3bf5d2491b7ef349cd0ffeded0e5572e0e719f7eb7ba104970fe788948f0e0702b81e368ac8a444aef821c7cfba66b4b53da09ca7a62f0434a797e7310e794',\n",
       "      'width': 60}],\n",
       "    'name': 'Angry Break Up Playlist',\n",
       "    'owner': {'external_urls': {'spotify': 'http://open.spotify.com/user/lenalynn2222'},\n",
       "     'href': 'https://api.spotify.com/v1/users/lenalynn2222',\n",
       "     'id': 'lenalynn2222',\n",
       "     'type': 'user',\n",
       "     'uri': 'spotify:user:lenalynn2222'},\n",
       "    'public': None,\n",
       "    'snapshot_id': 'IH0jxQjN29pwm+ClRWjWwGFZka3p34rs3CJAzsLoRv5vD/noYgMph1VpAMEh4ITV',\n",
       "    'tracks': {'href': 'https://api.spotify.com/v1/users/lenalynn2222/playlists/6SO62h8wlSqf7YS5tIIabJ/tracks',\n",
       "     'total': 283},\n",
       "    'type': 'playlist',\n",
       "    'uri': 'spotify:user:lenalynn2222:playlist:6SO62h8wlSqf7YS5tIIabJ'}],\n",
       "  'limit': 5,\n",
       "  'next': 'https://api.spotify.com/v1/search?query=angry&offset=5&limit=5&type=playlist',\n",
       "  'offset': 0,\n",
       "  'previous': None,\n",
       "  'total': 419}}"
      ]
     },
     "execution_count": 9,
     "metadata": {},
     "output_type": "execute_result"
    }
   ],
   "source": [
    "data"
   ]
  },
  {
   "cell_type": "code",
   "execution_count": 10,
   "metadata": {
    "collapsed": false
   },
   "outputs": [
    {
     "data": {
      "text/plain": [
       "dict_keys(['playlists'])"
      ]
     },
     "execution_count": 10,
     "metadata": {},
     "output_type": "execute_result"
    }
   ],
   "source": [
    "data.keys()"
   ]
  },
  {
   "cell_type": "code",
   "execution_count": 11,
   "metadata": {
    "collapsed": false,
    "scrolled": true
   },
   "outputs": [
    {
     "data": {
      "text/plain": [
       "dict_keys(['total', 'next', 'offset', 'limit', 'href', 'previous', 'items'])"
      ]
     },
     "execution_count": 11,
     "metadata": {},
     "output_type": "execute_result"
    }
   ],
   "source": [
    "data['playlists'].keys()"
   ]
  },
  {
   "cell_type": "code",
   "execution_count": 12,
   "metadata": {
    "collapsed": false
   },
   "outputs": [
    {
     "data": {
      "text/plain": [
       "[{'collaborative': False,\n",
       "  'external_urls': {'spotify': 'http://open.spotify.com/user/derrickmcdonald904/playlist/1kAFPu9zrs94XMpypEyIku'},\n",
       "  'href': 'https://api.spotify.com/v1/users/derrickmcdonald904/playlists/1kAFPu9zrs94XMpypEyIku',\n",
       "  'id': '1kAFPu9zrs94XMpypEyIku',\n",
       "  'images': [{'height': 640,\n",
       "    'url': 'https://mosaic.scdn.co/640/14e01097c7707e305a37085d0b2c169fc412cb9154a81e5844382671738fbad792dee093ad0fc74351714b2617075accd828c2f3490014af7832579595e4987080b5b858acb511a76112086eafa686e4',\n",
       "    'width': 640},\n",
       "   {'height': 300,\n",
       "    'url': 'https://mosaic.scdn.co/300/14e01097c7707e305a37085d0b2c169fc412cb9154a81e5844382671738fbad792dee093ad0fc74351714b2617075accd828c2f3490014af7832579595e4987080b5b858acb511a76112086eafa686e4',\n",
       "    'width': 300},\n",
       "   {'height': 60,\n",
       "    'url': 'https://mosaic.scdn.co/60/14e01097c7707e305a37085d0b2c169fc412cb9154a81e5844382671738fbad792dee093ad0fc74351714b2617075accd828c2f3490014af7832579595e4987080b5b858acb511a76112086eafa686e4',\n",
       "    'width': 60}],\n",
       "  'name': 'angry',\n",
       "  'owner': {'external_urls': {'spotify': 'http://open.spotify.com/user/derrickmcdonald904'},\n",
       "   'href': 'https://api.spotify.com/v1/users/derrickmcdonald904',\n",
       "   'id': 'derrickmcdonald904',\n",
       "   'type': 'user',\n",
       "   'uri': 'spotify:user:derrickmcdonald904'},\n",
       "  'public': None,\n",
       "  'snapshot_id': 'vZoH7g5IPWL+g3ypbbo1bfL+ikhwJ5CN54NLFgTu0jrQdTBjKFmJ/qR8d0swCiFN',\n",
       "  'tracks': {'href': 'https://api.spotify.com/v1/users/derrickmcdonald904/playlists/1kAFPu9zrs94XMpypEyIku/tracks',\n",
       "   'total': 254},\n",
       "  'type': 'playlist',\n",
       "  'uri': 'spotify:user:derrickmcdonald904:playlist:1kAFPu9zrs94XMpypEyIku'},\n",
       " {'collaborative': False,\n",
       "  'external_urls': {'spotify': 'http://open.spotify.com/user/kerwino/playlist/4mCGD3C9QXhrWv3uBIpbRF'},\n",
       "  'href': 'https://api.spotify.com/v1/users/kerwino/playlists/4mCGD3C9QXhrWv3uBIpbRF',\n",
       "  'id': '4mCGD3C9QXhrWv3uBIpbRF',\n",
       "  'images': [{'height': 640,\n",
       "    'url': 'https://mosaic.scdn.co/640/f8510e4d45b268bed6318175f3d6b5125022046ad6aebc8455b303340e188c20fd4f562a2ab980e06df4e10b73eb8ca0f6228a8d493b8a1d34b950fc364ebe9e328b552a92feeeb4f2bb47821e386536',\n",
       "    'width': 640},\n",
       "   {'height': 300,\n",
       "    'url': 'https://mosaic.scdn.co/300/f8510e4d45b268bed6318175f3d6b5125022046ad6aebc8455b303340e188c20fd4f562a2ab980e06df4e10b73eb8ca0f6228a8d493b8a1d34b950fc364ebe9e328b552a92feeeb4f2bb47821e386536',\n",
       "    'width': 300},\n",
       "   {'height': 60,\n",
       "    'url': 'https://mosaic.scdn.co/60/f8510e4d45b268bed6318175f3d6b5125022046ad6aebc8455b303340e188c20fd4f562a2ab980e06df4e10b73eb8ca0f6228a8d493b8a1d34b950fc364ebe9e328b552a92feeeb4f2bb47821e386536',\n",
       "    'width': 60}],\n",
       "  'name': 'angry rap',\n",
       "  'owner': {'external_urls': {'spotify': 'http://open.spotify.com/user/kerwino'},\n",
       "   'href': 'https://api.spotify.com/v1/users/kerwino',\n",
       "   'id': 'kerwino',\n",
       "   'type': 'user',\n",
       "   'uri': 'spotify:user:kerwino'},\n",
       "  'public': None,\n",
       "  'snapshot_id': 'GNMRio6PIRhT3sw2P7YJrGoJWLF9epkNfbnhHRtSm+TLsJ4F9pF2CnDZRHKdAA5v',\n",
       "  'tracks': {'href': 'https://api.spotify.com/v1/users/kerwino/playlists/4mCGD3C9QXhrWv3uBIpbRF/tracks',\n",
       "   'total': 162},\n",
       "  'type': 'playlist',\n",
       "  'uri': 'spotify:user:kerwino:playlist:4mCGD3C9QXhrWv3uBIpbRF'},\n",
       " {'collaborative': False,\n",
       "  'external_urls': {'spotify': 'http://open.spotify.com/user/vheist16/playlist/0jFTAWnKeif1jeycmfzntA'},\n",
       "  'href': 'https://api.spotify.com/v1/users/vheist16/playlists/0jFTAWnKeif1jeycmfzntA',\n",
       "  'id': '0jFTAWnKeif1jeycmfzntA',\n",
       "  'images': [{'height': 640,\n",
       "    'url': 'https://mosaic.scdn.co/640/98be8968e1c29e6ef80831c5867733d2e687b50803f017a0243f8700181a566c8201a0ee992a9e91702ea459eef6df07fec7756a0a38b2452e9c9d4d9e067632c37b3b274fd9f5f21c228071e373678a',\n",
       "    'width': 640},\n",
       "   {'height': 300,\n",
       "    'url': 'https://mosaic.scdn.co/300/98be8968e1c29e6ef80831c5867733d2e687b50803f017a0243f8700181a566c8201a0ee992a9e91702ea459eef6df07fec7756a0a38b2452e9c9d4d9e067632c37b3b274fd9f5f21c228071e373678a',\n",
       "    'width': 300},\n",
       "   {'height': 60,\n",
       "    'url': 'https://mosaic.scdn.co/60/98be8968e1c29e6ef80831c5867733d2e687b50803f017a0243f8700181a566c8201a0ee992a9e91702ea459eef6df07fec7756a0a38b2452e9c9d4d9e067632c37b3b274fd9f5f21c228071e373678a',\n",
       "    'width': 60}],\n",
       "  'name': 'Angry Feminist',\n",
       "  'owner': {'external_urls': {'spotify': 'http://open.spotify.com/user/vheist16'},\n",
       "   'href': 'https://api.spotify.com/v1/users/vheist16',\n",
       "   'id': 'vheist16',\n",
       "   'type': 'user',\n",
       "   'uri': 'spotify:user:vheist16'},\n",
       "  'public': None,\n",
       "  'snapshot_id': 'oVQOCdtO+s0uiwOBhk9UmSOnoriiXfaohA90JqCN1lAjv2dM39pTRcHc7XnKTRwA',\n",
       "  'tracks': {'href': 'https://api.spotify.com/v1/users/vheist16/playlists/0jFTAWnKeif1jeycmfzntA/tracks',\n",
       "   'total': 129},\n",
       "  'type': 'playlist',\n",
       "  'uri': 'spotify:user:vheist16:playlist:0jFTAWnKeif1jeycmfzntA'},\n",
       " {'collaborative': False,\n",
       "  'external_urls': {'spotify': 'http://open.spotify.com/user/1210455809/playlist/6v1dsdZknqXf2xukNyeJ2x'},\n",
       "  'href': 'https://api.spotify.com/v1/users/1210455809/playlists/6v1dsdZknqXf2xukNyeJ2x',\n",
       "  'id': '6v1dsdZknqXf2xukNyeJ2x',\n",
       "  'images': [{'height': 640,\n",
       "    'url': 'https://mosaic.scdn.co/640/170f6319fa11fb7302ac04bf9732765e76620ae222da875c060f901998e1f3518ab8fc08d814f926a701d127689c0280cccedad77dbb4359e913e3dd5c9c2342145fe53505a001fb6c767c8ca3b0378d',\n",
       "    'width': 640},\n",
       "   {'height': 300,\n",
       "    'url': 'https://mosaic.scdn.co/300/170f6319fa11fb7302ac04bf9732765e76620ae222da875c060f901998e1f3518ab8fc08d814f926a701d127689c0280cccedad77dbb4359e913e3dd5c9c2342145fe53505a001fb6c767c8ca3b0378d',\n",
       "    'width': 300},\n",
       "   {'height': 60,\n",
       "    'url': 'https://mosaic.scdn.co/60/170f6319fa11fb7302ac04bf9732765e76620ae222da875c060f901998e1f3518ab8fc08d814f926a701d127689c0280cccedad77dbb4359e913e3dd5c9c2342145fe53505a001fb6c767c8ca3b0378d',\n",
       "    'width': 60}],\n",
       "  'name': 'Angry Playlist',\n",
       "  'owner': {'external_urls': {'spotify': 'http://open.spotify.com/user/1210455809'},\n",
       "   'href': 'https://api.spotify.com/v1/users/1210455809',\n",
       "   'id': '1210455809',\n",
       "   'type': 'user',\n",
       "   'uri': 'spotify:user:1210455809'},\n",
       "  'public': None,\n",
       "  'snapshot_id': 'AxgnDPpBko2kLBjT5Cp4TgMeymEm91pOgdGOzIvEZqO+D0e8Yow35YDgwYM2aEPC',\n",
       "  'tracks': {'href': 'https://api.spotify.com/v1/users/1210455809/playlists/6v1dsdZknqXf2xukNyeJ2x/tracks',\n",
       "   'total': 322},\n",
       "  'type': 'playlist',\n",
       "  'uri': 'spotify:user:1210455809:playlist:6v1dsdZknqXf2xukNyeJ2x'},\n",
       " {'collaborative': False,\n",
       "  'external_urls': {'spotify': 'http://open.spotify.com/user/lenalynn2222/playlist/6SO62h8wlSqf7YS5tIIabJ'},\n",
       "  'href': 'https://api.spotify.com/v1/users/lenalynn2222/playlists/6SO62h8wlSqf7YS5tIIabJ',\n",
       "  'id': '6SO62h8wlSqf7YS5tIIabJ',\n",
       "  'images': [{'height': 640,\n",
       "    'url': 'https://mosaic.scdn.co/640/53ca61ed0ce45b2caa96ff041f4b90f36d3bf5d2491b7ef349cd0ffeded0e5572e0e719f7eb7ba104970fe788948f0e0702b81e368ac8a444aef821c7cfba66b4b53da09ca7a62f0434a797e7310e794',\n",
       "    'width': 640},\n",
       "   {'height': 300,\n",
       "    'url': 'https://mosaic.scdn.co/300/53ca61ed0ce45b2caa96ff041f4b90f36d3bf5d2491b7ef349cd0ffeded0e5572e0e719f7eb7ba104970fe788948f0e0702b81e368ac8a444aef821c7cfba66b4b53da09ca7a62f0434a797e7310e794',\n",
       "    'width': 300},\n",
       "   {'height': 60,\n",
       "    'url': 'https://mosaic.scdn.co/60/53ca61ed0ce45b2caa96ff041f4b90f36d3bf5d2491b7ef349cd0ffeded0e5572e0e719f7eb7ba104970fe788948f0e0702b81e368ac8a444aef821c7cfba66b4b53da09ca7a62f0434a797e7310e794',\n",
       "    'width': 60}],\n",
       "  'name': 'Angry Break Up Playlist',\n",
       "  'owner': {'external_urls': {'spotify': 'http://open.spotify.com/user/lenalynn2222'},\n",
       "   'href': 'https://api.spotify.com/v1/users/lenalynn2222',\n",
       "   'id': 'lenalynn2222',\n",
       "   'type': 'user',\n",
       "   'uri': 'spotify:user:lenalynn2222'},\n",
       "  'public': None,\n",
       "  'snapshot_id': 'IH0jxQjN29pwm+ClRWjWwGFZka3p34rs3CJAzsLoRv5vD/noYgMph1VpAMEh4ITV',\n",
       "  'tracks': {'href': 'https://api.spotify.com/v1/users/lenalynn2222/playlists/6SO62h8wlSqf7YS5tIIabJ/tracks',\n",
       "   'total': 283},\n",
       "  'type': 'playlist',\n",
       "  'uri': 'spotify:user:lenalynn2222:playlist:6SO62h8wlSqf7YS5tIIabJ'}]"
      ]
     },
     "execution_count": 12,
     "metadata": {},
     "output_type": "execute_result"
    }
   ],
   "source": [
    "data['playlists']['items']"
   ]
  },
  {
   "cell_type": "code",
   "execution_count": 13,
   "metadata": {
    "collapsed": false
   },
   "outputs": [
    {
     "data": {
      "text/plain": [
       "{'collaborative': False,\n",
       " 'external_urls': {'spotify': 'http://open.spotify.com/user/derrickmcdonald904/playlist/1kAFPu9zrs94XMpypEyIku'},\n",
       " 'href': 'https://api.spotify.com/v1/users/derrickmcdonald904/playlists/1kAFPu9zrs94XMpypEyIku',\n",
       " 'id': '1kAFPu9zrs94XMpypEyIku',\n",
       " 'images': [{'height': 640,\n",
       "   'url': 'https://mosaic.scdn.co/640/14e01097c7707e305a37085d0b2c169fc412cb9154a81e5844382671738fbad792dee093ad0fc74351714b2617075accd828c2f3490014af7832579595e4987080b5b858acb511a76112086eafa686e4',\n",
       "   'width': 640},\n",
       "  {'height': 300,\n",
       "   'url': 'https://mosaic.scdn.co/300/14e01097c7707e305a37085d0b2c169fc412cb9154a81e5844382671738fbad792dee093ad0fc74351714b2617075accd828c2f3490014af7832579595e4987080b5b858acb511a76112086eafa686e4',\n",
       "   'width': 300},\n",
       "  {'height': 60,\n",
       "   'url': 'https://mosaic.scdn.co/60/14e01097c7707e305a37085d0b2c169fc412cb9154a81e5844382671738fbad792dee093ad0fc74351714b2617075accd828c2f3490014af7832579595e4987080b5b858acb511a76112086eafa686e4',\n",
       "   'width': 60}],\n",
       " 'name': 'angry',\n",
       " 'owner': {'external_urls': {'spotify': 'http://open.spotify.com/user/derrickmcdonald904'},\n",
       "  'href': 'https://api.spotify.com/v1/users/derrickmcdonald904',\n",
       "  'id': 'derrickmcdonald904',\n",
       "  'type': 'user',\n",
       "  'uri': 'spotify:user:derrickmcdonald904'},\n",
       " 'public': None,\n",
       " 'snapshot_id': 'vZoH7g5IPWL+g3ypbbo1bfL+ikhwJ5CN54NLFgTu0jrQdTBjKFmJ/qR8d0swCiFN',\n",
       " 'tracks': {'href': 'https://api.spotify.com/v1/users/derrickmcdonald904/playlists/1kAFPu9zrs94XMpypEyIku/tracks',\n",
       "  'total': 254},\n",
       " 'type': 'playlist',\n",
       " 'uri': 'spotify:user:derrickmcdonald904:playlist:1kAFPu9zrs94XMpypEyIku'}"
      ]
     },
     "execution_count": 13,
     "metadata": {},
     "output_type": "execute_result"
    }
   ],
   "source": [
    "random.choice(data['playlists']['items'])"
   ]
  },
  {
   "cell_type": "code",
   "execution_count": 21,
   "metadata": {
    "collapsed": false
   },
   "outputs": [
    {
     "data": {
      "text/plain": [
       "'http://open.spotify.com/user/derrickmcdonald904/playlist/1kAFPu9zrs94XMpypEyIku'"
      ]
     },
     "execution_count": 21,
     "metadata": {},
     "output_type": "execute_result"
    }
   ],
   "source": [
    "play = random.choice(data['playlists']['items'])['external_urls']['spotify']\n",
    "play"
   ]
  },
  {
   "cell_type": "markdown",
   "metadata": {},
   "source": [
    "## direct playlist URL result"
   ]
  },
  {
   "cell_type": "code",
   "execution_count": 16,
   "metadata": {
    "collapsed": false
   },
   "outputs": [
    {
     "data": {
      "text/plain": [
       "'http://open.spotify.com/user/spotify_uk_/playlist/3fFwkB1IzcZlvYZEuiDzUU'"
      ]
     },
     "execution_count": 16,
     "metadata": {},
     "output_type": "execute_result"
    }
   ],
   "source": [
    "result_dict['external_urls']['spotify']"
   ]
  }
 ],
 "metadata": {
  "kernelspec": {
   "display_name": "Python 3",
   "language": "python",
   "name": "python3"
  },
  "language_info": {
   "codemirror_mode": {
    "name": "ipython",
    "version": 3
   },
   "file_extension": ".py",
   "mimetype": "text/x-python",
   "name": "python",
   "nbconvert_exporter": "python",
   "pygments_lexer": "ipython3",
   "version": "3.5.2"
  }
 },
 "nbformat": 4,
 "nbformat_minor": 1
}
