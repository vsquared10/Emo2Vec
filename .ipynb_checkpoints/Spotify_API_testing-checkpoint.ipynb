{
 "cells": [
  {
   "cell_type": "code",
   "execution_count": 2,
   "metadata": {
    "collapsed": true
   },
   "outputs": [],
   "source": [
    "reset -fs"
   ]
  },
  {
   "cell_type": "code",
   "execution_count": 21,
   "metadata": {
    "collapsed": false
   },
   "outputs": [],
   "source": [
    "import requests"
   ]
  },
  {
   "cell_type": "code",
   "execution_count": 4,
   "metadata": {
    "collapsed": true
   },
   "outputs": [],
   "source": [
    "client_id = 'b8b2038593d44cf6b826d84a09238016'\n",
    "client_key = '0d8de85a4bae4c519f809302af16f756'"
   ]
  },
  {
   "cell_type": "code",
   "execution_count": 5,
   "metadata": {
    "collapsed": false
   },
   "outputs": [],
   "source": [
    "url= 'https://api.spotify.com/v1/search'\n",
    "params = {'q' : 'text',\n",
    "          'type' :'playlist',\n",
    "          'limit' : '5'}\n",
    "headers={\n",
    "    \"Accept\": \"text/plain\"\n",
    "  }"
   ]
  },
  {
   "cell_type": "code",
   "execution_count": 6,
   "metadata": {
    "collapsed": false
   },
   "outputs": [],
   "source": [
    "r = requests.get(url, params=params)"
   ]
  },
  {
   "cell_type": "code",
   "execution_count": 7,
   "metadata": {
    "collapsed": false
   },
   "outputs": [],
   "source": [
    "data = r.json()"
   ]
  },
  {
   "cell_type": "code",
   "execution_count": 8,
   "metadata": {
    "collapsed": false,
    "scrolled": true
   },
   "outputs": [
    {
     "data": {
      "text/plain": [
       "{'playlists': {'href': 'https://api.spotify.com/v1/search?query=text&offset=0&limit=5&type=playlist',\n",
       "  'items': [{'collaborative': False,\n",
       "    'external_urls': {'spotify': 'http://open.spotify.com/user/spotify_uk_/playlist/3fFwkB1IzcZlvYZEuiDzUU'},\n",
       "    'href': 'https://api.spotify.com/v1/users/spotify_uk_/playlists/3fFwkB1IzcZlvYZEuiDzUU',\n",
       "    'id': '3fFwkB1IzcZlvYZEuiDzUU',\n",
       "    'images': [{'height': None,\n",
       "      'url': 'https://u.scdn.co/images/pl/default/1df2edc34b89e9177069492019a1fec77cc8d0d0',\n",
       "      'width': None}],\n",
       "    'name': '#ThrowbackThursday',\n",
       "    'owner': {'external_urls': {'spotify': 'http://open.spotify.com/user/spotify_uk_'},\n",
       "     'href': 'https://api.spotify.com/v1/users/spotify_uk_',\n",
       "     'id': 'spotify_uk_',\n",
       "     'type': 'user',\n",
       "     'uri': 'spotify:user:spotify_uk_'},\n",
       "    'public': None,\n",
       "    'snapshot_id': 'UkWMxC9Eo9tBFzY7LmS5KAfyXMQPbS1+ZzFw0ItnFqpImDwJHumRUUTA3ZoAwMDc',\n",
       "    'tracks': {'href': 'https://api.spotify.com/v1/users/spotify_uk_/playlists/3fFwkB1IzcZlvYZEuiDzUU/tracks',\n",
       "     'total': 50},\n",
       "    'type': 'playlist',\n",
       "    'uri': 'spotify:user:spotify_uk_:playlist:3fFwkB1IzcZlvYZEuiDzUU'},\n",
       "   {'collaborative': False,\n",
       "    'external_urls': {'spotify': 'http://open.spotify.com/user/kylie.corbett/playlist/75eNdfha82yOo9UnK30Khm'},\n",
       "    'href': 'https://api.spotify.com/v1/users/kylie.corbett/playlists/75eNdfha82yOo9UnK30Khm',\n",
       "    'id': '75eNdfha82yOo9UnK30Khm',\n",
       "    'images': [{'height': 640,\n",
       "      'url': 'https://mosaic.scdn.co/640/31b88a043c5ddcc8ed9b5317f196b5db3a72f593983ad9a2eca84fa19af19c903b69ca9745a73e5e9c63c3ef667ec5834b554838e6621c72a3c87fa8b1bd8a1eed252877094236bb2131124d01b91815',\n",
       "      'width': 640},\n",
       "     {'height': 300,\n",
       "      'url': 'https://mosaic.scdn.co/300/31b88a043c5ddcc8ed9b5317f196b5db3a72f593983ad9a2eca84fa19af19c903b69ca9745a73e5e9c63c3ef667ec5834b554838e6621c72a3c87fa8b1bd8a1eed252877094236bb2131124d01b91815',\n",
       "      'width': 300},\n",
       "     {'height': 60,\n",
       "      'url': 'https://mosaic.scdn.co/60/31b88a043c5ddcc8ed9b5317f196b5db3a72f593983ad9a2eca84fa19af19c903b69ca9745a73e5e9c63c3ef667ec5834b554838e6621c72a3c87fa8b1bd8a1eed252877094236bb2131124d01b91815',\n",
       "      'width': 60}],\n",
       "    'name': 'TexT',\n",
       "    'owner': {'external_urls': {'spotify': 'http://open.spotify.com/user/kylie.corbett'},\n",
       "     'href': 'https://api.spotify.com/v1/users/kylie.corbett',\n",
       "     'id': 'kylie.corbett',\n",
       "     'type': 'user',\n",
       "     'uri': 'spotify:user:kylie.corbett'},\n",
       "    'public': None,\n",
       "    'snapshot_id': 'e2GvrMD5hUOTLqUj5LMt/FVHh05LvVD0hcGr1HnzkZr65ZhxJdArqU1mO7i5kMKa',\n",
       "    'tracks': {'href': 'https://api.spotify.com/v1/users/kylie.corbett/playlists/75eNdfha82yOo9UnK30Khm/tracks',\n",
       "     'total': 280},\n",
       "    'type': 'playlist',\n",
       "    'uri': 'spotify:user:kylie.corbett:playlist:75eNdfha82yOo9UnK30Khm'},\n",
       "   {'collaborative': False,\n",
       "    'external_urls': {'spotify': 'http://open.spotify.com/user/warner.music.central.europe/playlist/439GRGyrRa8lcML6cuLtj0'},\n",
       "    'href': 'https://api.spotify.com/v1/users/warner.music.central.europe/playlists/439GRGyrRa8lcML6cuLtj0',\n",
       "    'id': '439GRGyrRa8lcML6cuLtj0',\n",
       "    'images': [{'height': None,\n",
       "      'url': 'https://u.scdn.co/images/pl/default/f18cb83d19999bb5e1ad6b396b4f19f42aaa6162',\n",
       "      'width': None}],\n",
       "    'name': 'HITS ZUM MITSINGEN',\n",
       "    'owner': {'external_urls': {'spotify': 'http://open.spotify.com/user/warner.music.central.europe'},\n",
       "     'href': 'https://api.spotify.com/v1/users/warner.music.central.europe',\n",
       "     'id': 'warner.music.central.europe',\n",
       "     'type': 'user',\n",
       "     'uri': 'spotify:user:warner.music.central.europe'},\n",
       "    'public': None,\n",
       "    'snapshot_id': 'AM+AXh5jeq7tmJCYr7/7KvtGg9zRWYLoVqtj7b76KcjABPfCmSLOYwrshPaQXWOZ',\n",
       "    'tracks': {'href': 'https://api.spotify.com/v1/users/warner.music.central.europe/playlists/439GRGyrRa8lcML6cuLtj0/tracks',\n",
       "     'total': 100},\n",
       "    'type': 'playlist',\n",
       "    'uri': 'spotify:user:warner.music.central.europe:playlist:439GRGyrRa8lcML6cuLtj0'},\n",
       "   {'collaborative': False,\n",
       "    'external_urls': {'spotify': 'http://open.spotify.com/user/spice_racks/playlist/10gSabVK1ee25jEOdM6W7z'},\n",
       "    'href': 'https://api.spotify.com/v1/users/spice_racks/playlists/10gSabVK1ee25jEOdM6W7z',\n",
       "    'id': '10gSabVK1ee25jEOdM6W7z',\n",
       "    'images': [{'height': 640,\n",
       "      'url': 'https://mosaic.scdn.co/640/095205c6e58e023fb4877529b75986014e8d66af0cd0508f78c5e5f6e2b01b3009753083c797727055455746f8544372d313183cdb8eca5fff3c8a12b1ad2e55063c2e32b074ca0c4294c60e44030680',\n",
       "      'width': 640},\n",
       "     {'height': 300,\n",
       "      'url': 'https://mosaic.scdn.co/300/095205c6e58e023fb4877529b75986014e8d66af0cd0508f78c5e5f6e2b01b3009753083c797727055455746f8544372d313183cdb8eca5fff3c8a12b1ad2e55063c2e32b074ca0c4294c60e44030680',\n",
       "      'width': 300},\n",
       "     {'height': 60,\n",
       "      'url': 'https://mosaic.scdn.co/60/095205c6e58e023fb4877529b75986014e8d66af0cd0508f78c5e5f6e2b01b3009753083c797727055455746f8544372d313183cdb8eca5fff3c8a12b1ad2e55063c2e32b074ca0c4294c60e44030680',\n",
       "      'width': 60}],\n",
       "    'name': 'Flavour Text',\n",
       "    'owner': {'external_urls': {'spotify': 'http://open.spotify.com/user/spice_racks'},\n",
       "     'href': 'https://api.spotify.com/v1/users/spice_racks',\n",
       "     'id': 'spice_racks',\n",
       "     'type': 'user',\n",
       "     'uri': 'spotify:user:spice_racks'},\n",
       "    'public': None,\n",
       "    'snapshot_id': 'J1VV4+5T8SWk9ax5zZtLILTOK2ZPnj1dPUu+mPnRuX5KU76bUuxBFmK6Ca3jja+o',\n",
       "    'tracks': {'href': 'https://api.spotify.com/v1/users/spice_racks/playlists/10gSabVK1ee25jEOdM6W7z/tracks',\n",
       "     'total': 148},\n",
       "    'type': 'playlist',\n",
       "    'uri': 'spotify:user:spice_racks:playlist:10gSabVK1ee25jEOdM6W7z'},\n",
       "   {'collaborative': False,\n",
       "    'external_urls': {'spotify': 'http://open.spotify.com/user/k_hebden/playlist/3e7xot5Y1XYY5AT5OVqRZO'},\n",
       "    'href': 'https://api.spotify.com/v1/users/k_hebden/playlists/3e7xot5Y1XYY5AT5OVqRZO',\n",
       "    'id': '3e7xot5Y1XYY5AT5OVqRZO',\n",
       "    'images': [{'height': None,\n",
       "      'url': 'https://u.scdn.co/images/pl/default/71648872f78f85e220b6e73b0018528364adb517',\n",
       "      'width': None}],\n",
       "    'name': 'Text Records',\n",
       "    'owner': {'external_urls': {'spotify': 'http://open.spotify.com/user/k_hebden'},\n",
       "     'href': 'https://api.spotify.com/v1/users/k_hebden',\n",
       "     'id': 'k_hebden',\n",
       "     'type': 'user',\n",
       "     'uri': 'spotify:user:k_hebden'},\n",
       "    'public': None,\n",
       "    'snapshot_id': 'IjEPQ9Zex6rUYaTWS+PVkhufzfeXUvOCHk1rxNFleLQPI2YPxStEaEe7DHwpg38V',\n",
       "    'tracks': {'href': 'https://api.spotify.com/v1/users/k_hebden/playlists/3e7xot5Y1XYY5AT5OVqRZO/tracks',\n",
       "     'total': 34},\n",
       "    'type': 'playlist',\n",
       "    'uri': 'spotify:user:k_hebden:playlist:3e7xot5Y1XYY5AT5OVqRZO'}],\n",
       "  'limit': 5,\n",
       "  'next': 'https://api.spotify.com/v1/search?query=text&offset=5&limit=5&type=playlist',\n",
       "  'offset': 0,\n",
       "  'previous': None,\n",
       "  'total': 72}}"
      ]
     },
     "execution_count": 8,
     "metadata": {},
     "output_type": "execute_result"
    }
   ],
   "source": [
    "data"
   ]
  },
  {
   "cell_type": "code",
   "execution_count": 9,
   "metadata": {
    "collapsed": false
   },
   "outputs": [
    {
     "data": {
      "text/plain": [
       "dict_keys(['playlists'])"
      ]
     },
     "execution_count": 9,
     "metadata": {},
     "output_type": "execute_result"
    }
   ],
   "source": [
    "data.keys()"
   ]
  },
  {
   "cell_type": "code",
   "execution_count": 50,
   "metadata": {
    "collapsed": false,
    "scrolled": true
   },
   "outputs": [
    {
     "data": {
      "text/plain": [
       "dict_keys(['href', 'items', 'total', 'offset', 'next', 'previous', 'limit'])"
      ]
     },
     "execution_count": 50,
     "metadata": {},
     "output_type": "execute_result"
    }
   ],
   "source": [
    "data['playlists'].keys()"
   ]
  },
  {
   "cell_type": "code",
   "execution_count": 51,
   "metadata": {
    "collapsed": false,
    "scrolled": true
   },
   "outputs": [
    {
     "data": {
      "text/plain": [
       "[{'collaborative': False,\n",
       "  'external_urls': {'spotify': 'http://open.spotify.com/user/spotify_uk_/playlist/3fFwkB1IzcZlvYZEuiDzUU'},\n",
       "  'href': 'https://api.spotify.com/v1/users/spotify_uk_/playlists/3fFwkB1IzcZlvYZEuiDzUU',\n",
       "  'id': '3fFwkB1IzcZlvYZEuiDzUU',\n",
       "  'images': [{'height': None,\n",
       "    'url': 'https://u.scdn.co/images/pl/default/1df2edc34b89e9177069492019a1fec77cc8d0d0',\n",
       "    'width': None}],\n",
       "  'name': '#ThrowbackThursday',\n",
       "  'owner': {'external_urls': {'spotify': 'http://open.spotify.com/user/spotify_uk_'},\n",
       "   'href': 'https://api.spotify.com/v1/users/spotify_uk_',\n",
       "   'id': 'spotify_uk_',\n",
       "   'type': 'user',\n",
       "   'uri': 'spotify:user:spotify_uk_'},\n",
       "  'public': None,\n",
       "  'snapshot_id': 'fjKwMyGe75IT61lISLlUCq6T6jIOb8VHVdtmwhbv5b1tELcRNVsWjfbGATHKJrTN',\n",
       "  'tracks': {'href': 'https://api.spotify.com/v1/users/spotify_uk_/playlists/3fFwkB1IzcZlvYZEuiDzUU/tracks',\n",
       "   'total': 50},\n",
       "  'type': 'playlist',\n",
       "  'uri': 'spotify:user:spotify_uk_:playlist:3fFwkB1IzcZlvYZEuiDzUU'},\n",
       " {'collaborative': False,\n",
       "  'external_urls': {'spotify': 'http://open.spotify.com/user/kylie.corbett/playlist/75eNdfha82yOo9UnK30Khm'},\n",
       "  'href': 'https://api.spotify.com/v1/users/kylie.corbett/playlists/75eNdfha82yOo9UnK30Khm',\n",
       "  'id': '75eNdfha82yOo9UnK30Khm',\n",
       "  'images': [{'height': 640,\n",
       "    'url': 'https://mosaic.scdn.co/640/31b88a043c5ddcc8ed9b5317f196b5db3a72f593983ad9a2eca84fa19af19c903b69ca9745a73e5e9c63c3ef667ec5834b554838e6621c72a3c87fa8b1bd8a1eed252877094236bb2131124d01b91815',\n",
       "    'width': 640},\n",
       "   {'height': 300,\n",
       "    'url': 'https://mosaic.scdn.co/300/31b88a043c5ddcc8ed9b5317f196b5db3a72f593983ad9a2eca84fa19af19c903b69ca9745a73e5e9c63c3ef667ec5834b554838e6621c72a3c87fa8b1bd8a1eed252877094236bb2131124d01b91815',\n",
       "    'width': 300},\n",
       "   {'height': 60,\n",
       "    'url': 'https://mosaic.scdn.co/60/31b88a043c5ddcc8ed9b5317f196b5db3a72f593983ad9a2eca84fa19af19c903b69ca9745a73e5e9c63c3ef667ec5834b554838e6621c72a3c87fa8b1bd8a1eed252877094236bb2131124d01b91815',\n",
       "    'width': 60}],\n",
       "  'name': 'TexT',\n",
       "  'owner': {'external_urls': {'spotify': 'http://open.spotify.com/user/kylie.corbett'},\n",
       "   'href': 'https://api.spotify.com/v1/users/kylie.corbett',\n",
       "   'id': 'kylie.corbett',\n",
       "   'type': 'user',\n",
       "   'uri': 'spotify:user:kylie.corbett'},\n",
       "  'public': None,\n",
       "  'snapshot_id': 'E/wPoRUNzeJ3eS8Afu1Tff4d9FVTQsdSk60fUUOBh35gyN6mlcBohkU0C0tiisv8',\n",
       "  'tracks': {'href': 'https://api.spotify.com/v1/users/kylie.corbett/playlists/75eNdfha82yOo9UnK30Khm/tracks',\n",
       "   'total': 276},\n",
       "  'type': 'playlist',\n",
       "  'uri': 'spotify:user:kylie.corbett:playlist:75eNdfha82yOo9UnK30Khm'},\n",
       " {'collaborative': False,\n",
       "  'external_urls': {'spotify': 'http://open.spotify.com/user/warner.music.central.europe/playlist/439GRGyrRa8lcML6cuLtj0'},\n",
       "  'href': 'https://api.spotify.com/v1/users/warner.music.central.europe/playlists/439GRGyrRa8lcML6cuLtj0',\n",
       "  'id': '439GRGyrRa8lcML6cuLtj0',\n",
       "  'images': [{'height': None,\n",
       "    'url': 'https://u.scdn.co/images/pl/default/f18cb83d19999bb5e1ad6b396b4f19f42aaa6162',\n",
       "    'width': None}],\n",
       "  'name': 'HITS ZUM MITSINGEN',\n",
       "  'owner': {'external_urls': {'spotify': 'http://open.spotify.com/user/warner.music.central.europe'},\n",
       "   'href': 'https://api.spotify.com/v1/users/warner.music.central.europe',\n",
       "   'id': 'warner.music.central.europe',\n",
       "   'type': 'user',\n",
       "   'uri': 'spotify:user:warner.music.central.europe'},\n",
       "  'public': None,\n",
       "  'snapshot_id': 'lswP9aLOlrlscfdtrXwnXr5WPEdMMp0JGIBiiQwJlK18Q9gJMsZ1LxL6Hu8DlP55',\n",
       "  'tracks': {'href': 'https://api.spotify.com/v1/users/warner.music.central.europe/playlists/439GRGyrRa8lcML6cuLtj0/tracks',\n",
       "   'total': 100},\n",
       "  'type': 'playlist',\n",
       "  'uri': 'spotify:user:warner.music.central.europe:playlist:439GRGyrRa8lcML6cuLtj0'},\n",
       " {'collaborative': False,\n",
       "  'external_urls': {'spotify': 'http://open.spotify.com/user/spice_racks/playlist/10gSabVK1ee25jEOdM6W7z'},\n",
       "  'href': 'https://api.spotify.com/v1/users/spice_racks/playlists/10gSabVK1ee25jEOdM6W7z',\n",
       "  'id': '10gSabVK1ee25jEOdM6W7z',\n",
       "  'images': [{'height': 640,\n",
       "    'url': 'https://mosaic.scdn.co/640/095205c6e58e023fb4877529b75986014e8d66af0cd0508f78c5e5f6e2b01b3009753083c797727055455746f8544372d313183cdb8eca5fff3c8a12b1ad2e55063c2e32b074ca0c4294c60e44030680',\n",
       "    'width': 640},\n",
       "   {'height': 300,\n",
       "    'url': 'https://mosaic.scdn.co/300/095205c6e58e023fb4877529b75986014e8d66af0cd0508f78c5e5f6e2b01b3009753083c797727055455746f8544372d313183cdb8eca5fff3c8a12b1ad2e55063c2e32b074ca0c4294c60e44030680',\n",
       "    'width': 300},\n",
       "   {'height': 60,\n",
       "    'url': 'https://mosaic.scdn.co/60/095205c6e58e023fb4877529b75986014e8d66af0cd0508f78c5e5f6e2b01b3009753083c797727055455746f8544372d313183cdb8eca5fff3c8a12b1ad2e55063c2e32b074ca0c4294c60e44030680',\n",
       "    'width': 60}],\n",
       "  'name': 'Flavour Text',\n",
       "  'owner': {'external_urls': {'spotify': 'http://open.spotify.com/user/spice_racks'},\n",
       "   'href': 'https://api.spotify.com/v1/users/spice_racks',\n",
       "   'id': 'spice_racks',\n",
       "   'type': 'user',\n",
       "   'uri': 'spotify:user:spice_racks'},\n",
       "  'public': None,\n",
       "  'snapshot_id': 'vioR6WfrhWRnsVoPfAM3pU/0kymSxYldOpmOK4U5N/Wy5z+u5FHG3Vli+bQOkhmW',\n",
       "  'tracks': {'href': 'https://api.spotify.com/v1/users/spice_racks/playlists/10gSabVK1ee25jEOdM6W7z/tracks',\n",
       "   'total': 142},\n",
       "  'type': 'playlist',\n",
       "  'uri': 'spotify:user:spice_racks:playlist:10gSabVK1ee25jEOdM6W7z'},\n",
       " {'collaborative': False,\n",
       "  'external_urls': {'spotify': 'http://open.spotify.com/user/k_hebden/playlist/3e7xot5Y1XYY5AT5OVqRZO'},\n",
       "  'href': 'https://api.spotify.com/v1/users/k_hebden/playlists/3e7xot5Y1XYY5AT5OVqRZO',\n",
       "  'id': '3e7xot5Y1XYY5AT5OVqRZO',\n",
       "  'images': [{'height': None,\n",
       "    'url': 'https://u.scdn.co/images/pl/default/71648872f78f85e220b6e73b0018528364adb517',\n",
       "    'width': None}],\n",
       "  'name': 'Text Records',\n",
       "  'owner': {'external_urls': {'spotify': 'http://open.spotify.com/user/k_hebden'},\n",
       "   'href': 'https://api.spotify.com/v1/users/k_hebden',\n",
       "   'id': 'k_hebden',\n",
       "   'type': 'user',\n",
       "   'uri': 'spotify:user:k_hebden'},\n",
       "  'public': None,\n",
       "  'snapshot_id': 'IjEPQ9Zex6rUYaTWS+PVkhufzfeXUvOCHk1rxNFleLQPI2YPxStEaEe7DHwpg38V',\n",
       "  'tracks': {'href': 'https://api.spotify.com/v1/users/k_hebden/playlists/3e7xot5Y1XYY5AT5OVqRZO/tracks',\n",
       "   'total': 34},\n",
       "  'type': 'playlist',\n",
       "  'uri': 'spotify:user:k_hebden:playlist:3e7xot5Y1XYY5AT5OVqRZO'}]"
      ]
     },
     "execution_count": 51,
     "metadata": {},
     "output_type": "execute_result"
    }
   ],
   "source": [
    "data['playlists']['items']"
   ]
  },
  {
   "cell_type": "code",
   "execution_count": 13,
   "metadata": {
    "collapsed": false,
    "scrolled": true
   },
   "outputs": [
    {
     "data": {
      "text/plain": [
       "{'collaborative': False,\n",
       " 'external_urls': {'spotify': 'http://open.spotify.com/user/spotify_uk_/playlist/3fFwkB1IzcZlvYZEuiDzUU'},\n",
       " 'href': 'https://api.spotify.com/v1/users/spotify_uk_/playlists/3fFwkB1IzcZlvYZEuiDzUU',\n",
       " 'id': '3fFwkB1IzcZlvYZEuiDzUU',\n",
       " 'images': [{'height': None,\n",
       "   'url': 'https://u.scdn.co/images/pl/default/1df2edc34b89e9177069492019a1fec77cc8d0d0',\n",
       "   'width': None}],\n",
       " 'name': '#ThrowbackThursday',\n",
       " 'owner': {'external_urls': {'spotify': 'http://open.spotify.com/user/spotify_uk_'},\n",
       "  'href': 'https://api.spotify.com/v1/users/spotify_uk_',\n",
       "  'id': 'spotify_uk_',\n",
       "  'type': 'user',\n",
       "  'uri': 'spotify:user:spotify_uk_'},\n",
       " 'public': None,\n",
       " 'snapshot_id': 'UkWMxC9Eo9tBFzY7LmS5KAfyXMQPbS1+ZzFw0ItnFqpImDwJHumRUUTA3ZoAwMDc',\n",
       " 'tracks': {'href': 'https://api.spotify.com/v1/users/spotify_uk_/playlists/3fFwkB1IzcZlvYZEuiDzUU/tracks',\n",
       "  'total': 50},\n",
       " 'type': 'playlist',\n",
       " 'uri': 'spotify:user:spotify_uk_:playlist:3fFwkB1IzcZlvYZEuiDzUU'}"
      ]
     },
     "execution_count": 13,
     "metadata": {},
     "output_type": "execute_result"
    }
   ],
   "source": [
    "data['playlists']['items'][0]"
   ]
  },
  {
   "cell_type": "code",
   "execution_count": 14,
   "metadata": {
    "collapsed": false
   },
   "outputs": [
    {
     "name": "stdout",
     "output_type": "stream",
     "text": [
      "<class 'dict'>\n"
     ]
    }
   ],
   "source": [
    "result_dict = data['playlists']['items'][0]\n",
    "print(type(result_dict))"
   ]
  },
  {
   "cell_type": "markdown",
   "metadata": {},
   "source": [
    "## direct playlist URL recipe"
   ]
  },
  {
   "cell_type": "code",
   "execution_count": 16,
   "metadata": {
    "collapsed": false
   },
   "outputs": [
    {
     "data": {
      "text/plain": [
       "'http://open.spotify.com/user/spotify_uk_/playlist/3fFwkB1IzcZlvYZEuiDzUU'"
      ]
     },
     "execution_count": 16,
     "metadata": {},
     "output_type": "execute_result"
    }
   ],
   "source": [
    "result_dict['external_urls']['spotify']"
   ]
  },
  {
   "cell_type": "markdown",
   "metadata": {},
   "source": [
    "## playlist ID recipe"
   ]
  },
  {
   "cell_type": "code",
   "execution_count": 17,
   "metadata": {
    "collapsed": false
   },
   "outputs": [
    {
     "data": {
      "text/plain": [
       "'3fFwkB1IzcZlvYZEuiDzUU'"
      ]
     },
     "execution_count": 17,
     "metadata": {},
     "output_type": "execute_result"
    }
   ],
   "source": [
    "result_dict['id']"
   ]
  },
  {
   "cell_type": "code",
   "execution_count": null,
   "metadata": {
    "collapsed": true
   },
   "outputs": [],
   "source": []
  }
 ],
 "metadata": {
  "kernelspec": {
   "display_name": "Python 3",
   "language": "python",
   "name": "python3"
  },
  "language_info": {
   "codemirror_mode": {
    "name": "ipython",
    "version": 3
   },
   "file_extension": ".py",
   "mimetype": "text/x-python",
   "name": "python",
   "nbconvert_exporter": "python",
   "pygments_lexer": "ipython3",
   "version": "3.5.2"
  }
 },
 "nbformat": 4,
 "nbformat_minor": 1
}
